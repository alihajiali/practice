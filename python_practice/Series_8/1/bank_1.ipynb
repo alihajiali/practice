{
  "nbformat": 4,
  "nbformat_minor": 2,
  "metadata": {
    "colab": {
      "name": "پاسخ سوال ۱ ـ‌ روش اول.ipynb",
      "provenance": [],
      "collapsed_sections": []
    },
    "kernelspec": {
      "name": "python3",
      "display_name": "Python 3.8.10 64-bit"
    },
    "language_info": {
      "name": "python",
      "version": "3.8.10",
      "mimetype": "text/x-python",
      "codemirror_mode": {
        "name": "ipython",
        "version": 3
      },
      "pygments_lexer": "ipython3",
      "nbconvert_exporter": "python",
      "file_extension": ".py"
    },
    "interpreter": {
      "hash": "916dbcbb3f70747c44a77c7bcd40155683ae19c65e1c03b4aa3499c5328201f1"
    }
  },
  "cells": [
    {
      "cell_type": "code",
      "execution_count": 4,
      "source": [
        "from datetime import datetime\n",
        "import time"
      ],
      "outputs": [],
      "metadata": {
        "id": "orvfG1UtuGrD"
      }
    },
    {
      "cell_type": "code",
      "execution_count": 5,
      "source": [
        "class Bank :\n",
        "    # حداقل موجودی در حساب باید ۱۰۰۰۰ تومان باشد\n",
        "    minimal_money = 10000\n",
        "    def __init__(self, name, money) :\n",
        "        self.name = name\n",
        "        self.money = money\n",
        "        # یک دیکشنری برای هر شخص که حساب باز میکند ساختیم و اطلاعات ان شخص مثل نام و موجودی در ان ذخیره میشود\n",
        "        self.detail = {}\n",
        "        self.detail['name'] = self.name\n",
        "        self.detail['money'] = self.money\n",
        "        # یک لیست را بصورت گلوبال ایمپورت میکنیم\n",
        "        global lst  \n",
        "        # و هر دیکشنری را در لیست اضافه میکنیم (زیرا بعدا میخواهیم روی ایتم های لیست پیمایش کنیم)\n",
        "        lst.append(self.detail) \n",
        "        #برای هر صاحب حساب یک دیکشنری تعریف کردم تا تراکنش هایی که انجام میدهد را بصورت لیست ذخیره کنم\n",
        "        globals()['lst_'+self.name] = []\n",
        "\n",
        "    # متد زیر به موجودی یک حساب مقداری را اضافه میکند و برای رسید یک متن را چاپ میکند\n",
        "    def add(self, add) :\n",
        "        for person_goal in lst :\n",
        "            if person_goal['name'] == self.name :\n",
        "                self.money += add\n",
        "                print(f'cash of {self.name} : {self.money}')\n",
        "                person_goal['money'] = self.money\n",
        "        transaction = {}\n",
        "        t = datetime.now()\n",
        "        transaction[t.strftime('%Y/%m/%d - %H:%M:%S')] = f'deposit:{add} - cash:{self.money}'\n",
        "        globals()['lst_'+self.name].append(transaction)\n",
        "\n",
        "    # متد زیر از موجودی یک حساب مقداری را کم میکند و برای رسید یک متن را چاپ میکند\n",
        "    def sub(self, sub) :\n",
        "        for person_origin in lst :\n",
        "            if person_origin['name'] == self.name :\n",
        "                self.money -= sub\n",
        "                print(f'cash of {self.name} : {self.money}')\n",
        "                person_origin['money'] = self.money\n",
        "        transaction = {}\n",
        "        t = datetime.now()\n",
        "        transaction[t.strftime('%Y/%m/%d - %H:%M:%S')] = f'withdraw:{sub} - cash:{self.money}'\n",
        "        globals()['lst_'+self.name].append(transaction)\n",
        "\n",
        "    # متد خصوصی زیر چک میکند که موجودی حساب بعد از انجام تراکنش کمتر از حداقل موجودی نشود و پیغام مناسب چاپ میکند\n",
        "    def __check(self, request) :\n",
        "        for person_origin in lst :\n",
        "            if person_origin['name'] == self.name :\n",
        "                if person_origin['money']-request >= Bank.minimal_money :\n",
        "                    print('Your transaction was successful !!!')\n",
        "                    return True\n",
        "                else :\n",
        "                    print('Your inventory is not enough !!!')\n",
        "                    return False\n",
        "\n",
        "\n",
        "\n",
        "    # متد زیر تراکنش را انجام میدهد\n",
        "    def send_money(self, person1, request, person2) :\n",
        "        if person1._Bank__check(request) == True :\n",
        "            person1.sub(request)\n",
        "            person2.add(request)\n",
        "        else :\n",
        "            transaction = {}\n",
        "            t = datetime.now()\n",
        "            transaction[t.strftime('%Y/%m/%d - %H:%M:%S')] = f'the transaction failed - cash:{self.money}'\n",
        "            globals()['lst_'+self.name].append(transaction)\n",
        "\n",
        "    # متد زیر برداشت را انجام میدهد\n",
        "    def sub_money(self, person1, request) :\n",
        "        if person1._Bank__check(request) == True :\n",
        "            person1.sub(request)\n",
        "        else :\n",
        "            transaction = {}\n",
        "            t = datetime.now()\n",
        "            transaction[t.strftime('%Y/%m/%d - %H:%M:%S')] = f'the transaction failed - cash:{self.money}'\n",
        "            globals()['lst_'+self.name].append(transaction)\n",
        "\n",
        "    # متد زیر برداشت را انجام میدهد\n",
        "    def add_money(self, person1, request) :\n",
        "        person1.add(request)\n",
        "\n",
        "\n",
        "\n",
        "    # متر زیر تراکنش ها را چاپ میکند\n",
        "    def transaction(self) :\n",
        "        for t in globals()['lst_'+self.name] :\n",
        "            print(t)\n",
        "\n",
        "\n",
        "\n",
        "    # متد زیر تراکنش های ۲ دیقه قبل و بعد زمان ورودی را چاپ میکند\n",
        "    def tow_min(self, user_time) :\n",
        "        # تبدیل زمان ورودی کاربر به ایپاک\n",
        "        user_time = time.mktime(user_time)\n",
        "        start_time = user_time - 120\n",
        "        start_time = datetime.fromtimestamp(start_time)\n",
        "        stop_time = user_time + 120\n",
        "        stop_time = datetime.fromtimestamp(stop_time)\n",
        "        # یافتن لیست کاربر مورد نظر و پیمایش روی دیکشنری های ان\n",
        "        for dic in globals()['lst_'+self.name] :\n",
        "            for key in dic.keys() :\n",
        "                # تبدیل کلید های دیکشنری به فرمت دیت تایم\n",
        "                t = datetime.strptime(key, '%Y/%m/%d - %H:%M:%S')\n",
        "                if t >= start_time and t <= stop_time :\n",
        "                    print(dic)"
      ],
      "outputs": [],
      "metadata": {}
    },
    {
      "cell_type": "code",
      "execution_count": 6,
      "source": [
        "lst = []\n",
        "person1 = Bank('ali', 50000)\n",
        "person2 = Bank('reza', 10000)\n",
        "person3 = Bank('ahmad', 20000)\n",
        "person4 = Bank('hasan', 300000)\n",
        "person5 = Bank('mohammad', 75000)\n",
        "person6 = Bank('iman', 130000)\n",
        "person7 = Bank('mahan', 900000)"
      ],
      "outputs": [],
      "metadata": {
        "id": "y6tYRWQTuKHe"
      }
    },
    {
      "cell_type": "code",
      "execution_count": 7,
      "source": [
        "print(person7.send_money(person7, 871000, person1))"
      ],
      "outputs": [
        {
          "output_type": "stream",
          "name": "stdout",
          "text": [
            "Your transaction was successful !!!\n",
            "cash of mahan : 29000\n",
            "cash of ali : 921000\n",
            "None\n"
          ]
        }
      ],
      "metadata": {
        "colab": {
          "base_uri": "https://localhost:8080/"
        },
        "id": "N2oLXPvXuPAm",
        "outputId": "6de4f2af-eb26-404e-ad71-162bc9bf95fc"
      }
    },
    {
      "cell_type": "code",
      "execution_count": 8,
      "source": [
        "print(person4.sub_money(person4, 285000))"
      ],
      "outputs": [
        {
          "output_type": "stream",
          "name": "stdout",
          "text": [
            "Your transaction was successful !!!\n",
            "cash of hasan : 15000\n",
            "None\n"
          ]
        }
      ],
      "metadata": {}
    },
    {
      "cell_type": "code",
      "execution_count": 9,
      "source": [
        "print(person4.add_money(person4, 15000))"
      ],
      "outputs": [
        {
          "output_type": "stream",
          "name": "stdout",
          "text": [
            "cash of hasan : 30000\n",
            "None\n"
          ]
        }
      ],
      "metadata": {}
    },
    {
      "cell_type": "markdown",
      "source": [
        "--------------------------------------------------------------------------\n",
        "--------------------------------------------------------------------------"
      ],
      "metadata": {}
    },
    {
      "cell_type": "code",
      "execution_count": 10,
      "source": [
        "person4.transaction()"
      ],
      "outputs": [
        {
          "output_type": "stream",
          "name": "stdout",
          "text": [
            "{'2021/09/21 - 23:10:17': 'withdraw:285000 - cash:15000'}\n",
            "{'2021/09/21 - 23:10:21': 'deposit:15000 - cash:30000'}\n"
          ]
        }
      ],
      "metadata": {}
    },
    {
      "cell_type": "markdown",
      "source": [
        "--------------------------------------------------------------------------\n",
        "--------------------------------------------------------------------------"
      ],
      "metadata": {}
    },
    {
      "cell_type": "code",
      "execution_count": 11,
      "source": [
        "# لطفا زمان زیر را با توجه به زمان تراکنش های انجامی خودتان تنظیم کنید\n",
        "\n",
        "person4.tow_min((2021, 9, 21, 6, 38, 0, 0, 0, -1))"
      ],
      "outputs": [],
      "metadata": {}
    }
  ]
}