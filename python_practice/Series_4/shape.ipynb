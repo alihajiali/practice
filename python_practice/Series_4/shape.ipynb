{
  "nbformat": 4,
  "nbformat_minor": 0,
  "metadata": {
    "colab": {
      "name": "سوال 2.ipynb",
      "provenance": [],
      "collapsed_sections": []
    },
    "kernelspec": {
      "display_name": "Python 3",
      "name": "python3"
    },
    "language_info": {
      "name": "python"
    }
  },
  "cells": [
    {
      "cell_type": "code",
      "metadata": {
        "id": "JCrSQ918OB_O"
      },
      "source": [
        "# shape\n",
        "\n",
        "class shape :\n",
        "    def __init__(self,x,y) : # x : طول     &     y : عرض\n",
        "        self.x = x\n",
        "        self.y = y\n",
        "\n",
        "    def environment(self) :\n",
        "        return f'environment : {2*(self.x + self.y)}'\n",
        "\n",
        "    def area(self) :\n",
        "        return f'area : {self.x * self.y}'"
      ],
      "execution_count": null,
      "outputs": []
    },
    {
      "cell_type": "markdown",
      "metadata": {
        "id": "JWa_AJ-W65YR"
      },
      "source": [
        "\n",
        "\n",
        "---\n",
        "\n",
        "\n",
        "\n",
        "---\n",
        "\n",
        "\n",
        "\n",
        "---\n",
        "\n"
      ]
    },
    {
      "cell_type": "code",
      "metadata": {
        "colab": {
          "base_uri": "https://localhost:8080/"
        },
        "id": "Yy9wiWGQPzNt",
        "outputId": "1acbf197-3ae9-4e0f-f555-d417ca30319c"
      },
      "source": [
        "# rectangle\n",
        "\n",
        "class rectangle(shape) :\n",
        "    def __init__(self,x,y) :\n",
        "        self.x = x\n",
        "        self.y = y\n",
        "\n",
        "    def drawing(self) :\n",
        "        for i in range(self.y) :\n",
        "            print('\\t'+\"* \"*self.x)\n",
        "\n",
        "\n",
        "rec1 = rectangle(13,5)\n",
        "print(rec1.environment())\n",
        "print(rec1.area())\n",
        "rec1.drawing()"
      ],
      "execution_count": null,
      "outputs": [
        {
          "name": "stdout",
          "output_type": "stream",
          "text": [
            "environment : 36\n",
            "area : 65\n",
            "\t* * * * * * * * * * * * * \n",
            "\t* * * * * * * * * * * * * \n",
            "\t* * * * * * * * * * * * * \n",
            "\t* * * * * * * * * * * * * \n",
            "\t* * * * * * * * * * * * * \n"
          ]
        }
      ]
    },
    {
      "cell_type": "markdown",
      "metadata": {
        "id": "vj8ZQoMs68eb"
      },
      "source": [
        "\n",
        "\n",
        "---\n",
        "\n"
      ]
    },
    {
      "cell_type": "code",
      "metadata": {
        "colab": {
          "base_uri": "https://localhost:8080/"
        },
        "id": "KuP4zMUL69W9",
        "outputId": "da6a4d34-706e-4271-cc10-22dfa3d15fb7"
      },
      "source": [
        "# squarte\n",
        "\n",
        "class squarte(shape) :\n",
        "    def __init__(self , a ) :\n",
        "        self.a = a\n",
        "        super().__init__(x=a , y=a)\n",
        "\n",
        "    def drawing(self) :\n",
        "        for i in range(self.y) :\n",
        "            print('\\t'+\"*  \"*self.x)\n",
        "\n",
        "\n",
        "squ1 = squarte(7)\n",
        "print(squ1.environment())\n",
        "print(squ1.area())\n",
        "squ1.drawing()"
      ],
      "execution_count": null,
      "outputs": [
        {
          "name": "stdout",
          "output_type": "stream",
          "text": [
            "environment : 28\n",
            "area : 49\n",
            "\t*  *  *  *  *  *  *  \n",
            "\t*  *  *  *  *  *  *  \n",
            "\t*  *  *  *  *  *  *  \n",
            "\t*  *  *  *  *  *  *  \n",
            "\t*  *  *  *  *  *  *  \n",
            "\t*  *  *  *  *  *  *  \n",
            "\t*  *  *  *  *  *  *  \n"
          ]
        }
      ]
    },
    {
      "cell_type": "markdown",
      "metadata": {
        "id": "f0ItiWgh8Lqi"
      },
      "source": [
        "\n",
        "\n",
        "---\n",
        "\n"
      ]
    },
    {
      "cell_type": "code",
      "metadata": {
        "colab": {
          "base_uri": "https://localhost:8080/"
        },
        "id": "Ys56Zwei8Owf",
        "outputId": "7eca65c5-e66a-4ff3-e50d-93a9ba9f0b88"
      },
      "source": [
        "# parallelgram\n",
        "\n",
        "class parallelgram(shape) :\n",
        "    def __init__(self , x , h) :\n",
        "        self.h = h\n",
        "        super().__init__(x , y = self.h)\n",
        "\n",
        "    def drawing(self) :\n",
        "        for i in range(self.y) :\n",
        "            print('\\t'+(self.y-i)*\"  \"+\"* \"*self.x)\n",
        "\n",
        "# در این سوال ارتفاع را دریافت کردیم و بجای ایگرگ قرار دادیم \n",
        "# لازم به ذکر است که برای متوازی الاضلاع محیط همانند مستطیل حساب میشو\n",
        "\n",
        "para1 = parallelgram(7,3)\n",
        "print(para1.area())\n",
        "print(para1.environment())\n",
        "para1.drawing()"
      ],
      "execution_count": null,
      "outputs": [
        {
          "name": "stdout",
          "output_type": "stream",
          "text": [
            "area : 21\n",
            "environment : 20\n",
            "\t      * * * * * * * \n",
            "\t    * * * * * * * \n",
            "\t  * * * * * * * \n"
          ]
        }
      ]
    },
    {
      "cell_type": "markdown",
      "metadata": {
        "id": "iu0otjcd-iP2"
      },
      "source": [
        "\n",
        "\n",
        "---\n",
        "\n"
      ]
    },
    {
      "cell_type": "code",
      "metadata": {
        "colab": {
          "base_uri": "https://localhost:8080/"
        },
        "id": "_vAv2KbR-i-G",
        "outputId": "9c7fa81c-a1d3-446b-e15c-34176ec0c363"
      },
      "source": [
        "# rhombus\n",
        "\n",
        "from math import *\n",
        "class rhombus(shape) :\n",
        "    def __init__(self , a) :\n",
        "        self.a = a\n",
        "        super().__init__(x=a , y=a)\n",
        "\n",
        "    def area(self) :\n",
        "        self.w = self.a / sqrt(2)\n",
        "        return f'area : {self.a * self.w}'\n",
        "\n",
        "    def drawing(self) :\n",
        "        for i in range(round(self.w)) :\n",
        "            print('\\t'+(round(self.w)-i)*\"  \"+\"*   \"*self.x)\n",
        "\n",
        "\n",
        "rho1 = rhombus(4)\n",
        "print(rho1.environment())\n",
        "print(rho1.area())\n",
        "rho1.drawing()"
      ],
      "execution_count": null,
      "outputs": [
        {
          "name": "stdout",
          "output_type": "stream",
          "text": [
            "environment : 16\n",
            "area : 11.31370849898476\n",
            "\t      *   *   *   *   \n",
            "\t    *   *   *   *   \n",
            "\t  *   *   *   *   \n"
          ]
        }
      ]
    },
    {
      "cell_type": "markdown",
      "metadata": {
        "id": "HAp70gCUC5Iw"
      },
      "source": [
        "\n",
        "\n",
        "---\n",
        "\n"
      ]
    },
    {
      "cell_type": "code",
      "metadata": {
        "colab": {
          "background_save": true
        },
        "id": "B9r9MzdFC6QN",
        "outputId": "856472ed-b08b-4785-cbbe-e6b3bec0a6ad"
      },
      "source": [
        "# diamond\n",
        "\n",
        "from math import *\n",
        "class diamond(shape) :\n",
        "    def __init__(self , a) :\n",
        "        self.a = a\n",
        "        super().__init__(x=a , y=a)\n",
        "\n",
        "    def area(self) :\n",
        "        self.w = self.a * sqrt(2)\n",
        "        return f'area : {self.w/2 * self.w}'\n",
        "        \n",
        "    def drawing(self) :\n",
        "        for i in range(round(self.w)) :\n",
        "            if i < (round(self.w)) / 2 :\n",
        "                print('\\t'+(round(self.w)-i)*\"  \"+\"*   \"*(i+1))\n",
        "        for i in reversed(range(round(self.w))) :\n",
        "            if i > (round(self.w)) / 2 :\n",
        "                print('\\t'+(round (self.w)-i)*\" \"+\"*  \"*(i+1))\n",
        "\n",
        "\n",
        "\n",
        "dia1 = diamond(7)\n",
        "print(dia1.environment())\n",
        "print(dia1.area())\n",
        "dia1.drawing()"
      ],
      "execution_count": null,
      "outputs": [
        {
          "name": "stdout",
          "output_type": "stream",
          "text": [
            "environment : 28\n",
            "area : 49.0\n",
            "\t                    *   \n",
            "\t                  *   *   \n",
            "\t                *   *   *   \n",
            "\t              *   *   *   *   \n",
            "\t            *   *   *   *   *   \n",
            "\t *  *  *  *  *  *  *  *  *  *  \n",
            "\t  *  *  *  *  *  *  *  *  *  \n",
            "\t   *  *  *  *  *  *  *  *  \n",
            "\t    *  *  *  *  *  *  *  \n"
          ]
        }
      ]
    }
  ]
}