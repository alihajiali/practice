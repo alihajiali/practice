{
  "nbformat": 4,
  "nbformat_minor": 0,
  "metadata": {
    "colab": {
      "name": "سوال ۱.ipynb",
      "provenance": [],
      "collapsed_sections": []
    },
    "kernelspec": {
      "name": "python3",
      "display_name": "Python 3"
    },
    "language_info": {
      "name": "python"
    }
  },
  "cells": [
    {
      "cell_type": "code",
      "metadata": {
        "colab": {
          "base_uri": "https://localhost:8080/"
        },
        "id": "Kx2aZFhrXtjD",
        "outputId": "587de6c9-f6b0-4bf6-b422-ec86a0f3a12a"
      },
      "source": [
        "# person\n",
        "\n",
        "class person :\n",
        "    # برای هر نوع از انسان ها (محقق - شاعر - نویسنده) یک لیست تعریف میکنیم\n",
        "    researcher_list = []\n",
        "    poet_list = []\n",
        "    writer_list = []\n",
        "    def __init__(self,name,email,gender) :\n",
        "        self.name = name\n",
        "        self.email = email\n",
        "        self.gender = gender\n",
        "\n",
        "    def __repr__(self):\n",
        "        return f\"name : {self.name} \\n\\t email : {self.email} \\n\\t gender : {self.gender} \\n\"+(\"-\"*35)\n",
        "\n",
        "    def __str__(self) :\n",
        "        return self.__repr__()\n",
        "\n",
        "# for example\n",
        "per1 = person('Einstein','Einstein@gmail.com','Male')\n",
        "print(per1) \n",
        "per2 = person('Ferdowsi','Ferdowsi@gmail.com','Male')\n",
        "print(per2)\n",
        "per3 = person('Victor Hugo','Victor_Hugo@gmail.com','Male')\n",
        "print(per3)"
      ],
      "execution_count": null,
      "outputs": [
        {
          "output_type": "stream",
          "text": [
            "name : Einstein \n",
            "\t email : Einstein@gmail.com \n",
            "\t gender : Male \n",
            "-----------------------------------\n",
            "name : Ferdowsi \n",
            "\t email : Ferdowsi@gmail.com \n",
            "\t gender : Male \n",
            "-----------------------------------\n",
            "name : Victor Hugo \n",
            "\t email : Victor_Hugo@gmail.com \n",
            "\t gender : Male \n",
            "-----------------------------------\n"
          ],
          "name": "stdout"
        }
      ]
    },
    {
      "cell_type": "markdown",
      "metadata": {
        "id": "GmwdK5VFloy1"
      },
      "source": [
        "\n",
        "\n",
        "---\n",
        "\n"
      ]
    },
    {
      "cell_type": "code",
      "metadata": {
        "colab": {
          "base_uri": "https://localhost:8080/"
        },
        "id": "A7Hpk35Elpkw",
        "outputId": "8a25d22f-0787-4966-ac74-4ae1dc756895"
      },
      "source": [
        "# researcher\n",
        "\n",
        "class researcher(person) :\n",
        "    def __init__(self,field,university,name,email,gender) :\n",
        "        self.field = field\n",
        "        self.university = university\n",
        "        super().__init__(name,email,gender)\n",
        "        super().researcher_list\n",
        "\n",
        "    # نام هر محقق به انتهای لیست محققان افزوده میشود\n",
        "    def func(self) :\n",
        "        self.researcher_list.append(self.name)\n",
        "        return self.researcher_list\n",
        "    \n",
        "    def __repr__(self):\n",
        "        return f\"name : {self.name} \\n\\t email : {self.email} \\n\\t gender : {self.gender} \\n \\t\\t university : {self.university} \\n\\t\\t field : {self.field} \\n\"+(\"-\"*35)\n",
        "\n",
        "    def __str__(self) :\n",
        "        return self.__repr__()\n",
        "\n",
        "\n",
        "res1 = researcher('Physicist','Princeton','Einstein','Einstein@gmail.com','Male')\n",
        "res1.func()\n",
        "print(res1)\n",
        "res2 = researcher('Mathematician','Maktab Khaneh','Khwarizmi','Khwarizmi@gmail.com','Male')\n",
        "res2.func()\n",
        "print(res2)\n",
        "res3 = researcher('Physicist Chemist','Paris','Marie Curie','Marie_Curie@gmail.com','Female')\n",
        "res3.func()\n",
        "print(res3)\n",
        "res4 = researcher('Doctor','Johannes Gutenberg','Samiei','Samiei@gmail.com','Male')\n",
        "res4.func()\n",
        "print(res4)\n",
        "#----------------------\n",
        "# لیست همه محققان چاپ میشود\n",
        "print('researchers =',person.researcher_list)"
      ],
      "execution_count": null,
      "outputs": [
        {
          "output_type": "stream",
          "text": [
            "name : Einstein \n",
            "\t email : Einstein@gmail.com \n",
            "\t gender : Male \n",
            " \t\t university : Princeton \n",
            "\t\t field : Physicist \n",
            "-----------------------------------\n",
            "name : Khwarizmi \n",
            "\t email : Khwarizmi@gmail.com \n",
            "\t gender : Male \n",
            " \t\t university : Maktab Khaneh \n",
            "\t\t field : Mathematician \n",
            "-----------------------------------\n",
            "name : Marie Curie \n",
            "\t email : Marie_Curie@gmail.com \n",
            "\t gender : Female \n",
            " \t\t university : Paris \n",
            "\t\t field : Physicist Chemist \n",
            "-----------------------------------\n",
            "name : Samiei \n",
            "\t email : Samiei@gmail.com \n",
            "\t gender : Male \n",
            " \t\t university : Johannes Gutenberg \n",
            "\t\t field : Doctor \n",
            "-----------------------------------\n",
            "researchers = ['Einstein', 'Khwarizmi', 'Marie Curie', 'Samiei']\n"
          ],
          "name": "stdout"
        }
      ]
    },
    {
      "cell_type": "markdown",
      "metadata": {
        "id": "dyO49Csclp0r"
      },
      "source": [
        "\n",
        "\n",
        "---\n",
        "\n"
      ]
    },
    {
      "cell_type": "code",
      "metadata": {
        "colab": {
          "base_uri": "https://localhost:8080/"
        },
        "id": "4zakXOeKlqZS",
        "outputId": "d708066d-c31b-4a05-b194-efdc2e0faa02"
      },
      "source": [
        "# poet\n",
        "\n",
        "class poet(person) :\n",
        "    def __init__(self,style,name,email,gender) :\n",
        "        self.style = style\n",
        "        super().__init__(name,email,gender)\n",
        "        super().poet_list\n",
        "\n",
        "    # نام هر شاعر به انتهای لیست شاعران افزوده میشود\n",
        "    def func(self) :\n",
        "        self.poet_list.append(self.name)\n",
        "        return self.poet_list\n",
        "    \n",
        "    def __repr__(self):\n",
        "        return f\"name : {self.name} \\n\\t email : {self.email} \\n\\t gender : {self.gender} \\n \\t\\t style : {self.style} \\n\"+(\"-\"*35)\n",
        "\n",
        "    def __str__(self) :\n",
        "        return self.__repr__()\n",
        "\n",
        "\n",
        "poet1 = poet('Epic','Ferdowsi','Ferdowsi@gmail.com','Male')\n",
        "poet1.func()\n",
        "print(poet1)\n",
        "poet2 = poet('lyric','Hafiz','Hafiz@gmail.com','Male')\n",
        "poet2.func()\n",
        "print(poet2)\n",
        "poet3 = poet('ode','Parvin Etesami','Etesami@gmail.com','Female')\n",
        "poet3.func()\n",
        "print(poet3)\n",
        "#----------------------\n",
        "# لیست همه شاعران چاپ می شود\n",
        "print('poet =',person.poet_list)"
      ],
      "execution_count": null,
      "outputs": [
        {
          "output_type": "stream",
          "text": [
            "name : Ferdowsi \n",
            "\t email : Ferdowsi@gmail.com \n",
            "\t gender : Male \n",
            " \t\t style : Epic \n",
            "-----------------------------------\n",
            "name : Hafiz \n",
            "\t email : Hafiz@gmail.com \n",
            "\t gender : Male \n",
            " \t\t style : lyric \n",
            "-----------------------------------\n",
            "name : Parvin Etesami \n",
            "\t email : Etesami@gmail.com \n",
            "\t gender : Female \n",
            " \t\t style : ode \n",
            "-----------------------------------\n",
            "poet = ['Ferdowsi', 'Hafiz', 'Parvin Etesami']\n"
          ],
          "name": "stdout"
        }
      ]
    },
    {
      "cell_type": "markdown",
      "metadata": {
        "id": "gtyQxYEdlqv_"
      },
      "source": [
        "\n",
        "\n",
        "---\n",
        "\n"
      ]
    },
    {
      "cell_type": "code",
      "metadata": {
        "id": "zRW26q_Alreu",
        "colab": {
          "base_uri": "https://localhost:8080/"
        },
        "outputId": "1b22b713-759a-4e75-e523-c03c36cfb028"
      },
      "source": [
        "# writer\n",
        "\n",
        "class writer(person) :\n",
        "    def __init__(self,writing_code,genre,name,email,gender) :\n",
        "        self.writing_code = writing_code\n",
        "        self.genre = genre\n",
        "        super().__init__(name,email,gender)\n",
        "        super().writer_list\n",
        "\n",
        "    # نام هر نویسنده به انتهای لیست نویسندگان افزوده میشود\n",
        "    def func(self) :\n",
        "        self.writer_list.append(self.name)\n",
        "        return self.writer_list\n",
        "    \n",
        "    def __repr__(self):\n",
        "        return f\"name : {self.name} \\n\\t email : {self.email} \\n\\t gender : {self.gender} \\n \\t\\t writing_code : {self.writing_code} \\n \\t\\t genre : {self.genre} \\n\"+(\"-\"*35)\n",
        "\n",
        "    def __str__(self) :\n",
        "        return self.__repr__()\n",
        "\n",
        "\n",
        "wr1 = writer('12341','Romanticism','Victor Hugo','Hugo@gmail.com','Male')\n",
        "wr1.func()\n",
        "print(wr1)\n",
        "wr2 = writer('12342','open minded and critic','Jalal Ale Ahmad','Ale_Ahmad@gmail.com','Male')\n",
        "wr2.func()\n",
        "print(wr2)\n",
        "wr3 = writer('12343','open minded','Sadegh Hedayat','Hedayat@gmail.com','Male')\n",
        "wr3.func()\n",
        "print(wr3)\n",
        "wr4 = writer('12344','Novel','Simin Daneshvar','Daneshvar@gmail.com','Female')\n",
        "wr4.func()\n",
        "print(wr4)\n",
        "#----------------------\n",
        "# لیست همه نویسندگان چاپ می شود\n",
        "print('writer =',person.writer_list)"
      ],
      "execution_count": null,
      "outputs": [
        {
          "output_type": "stream",
          "text": [
            "name : Victor Hugo \n",
            "\t email : Hugo@gmail.com \n",
            "\t gender : Male \n",
            " \t\t writing_code : 12341 \n",
            " \t\t genre : Romanticism \n",
            "-----------------------------------\n",
            "name : Jalal Ale Ahmad \n",
            "\t email : Ale_Ahmad@gmail.com \n",
            "\t gender : Male \n",
            " \t\t writing_code : 12342 \n",
            " \t\t genre : open minded and critic \n",
            "-----------------------------------\n",
            "name : Sadegh Hedayat \n",
            "\t email : Hedayat@gmail.com \n",
            "\t gender : Male \n",
            " \t\t writing_code : 12343 \n",
            " \t\t genre : open minded \n",
            "-----------------------------------\n",
            "name : Simin Daneshvar \n",
            "\t email : Daneshvar@gmail.com \n",
            "\t gender : Female \n",
            " \t\t writing_code : 12344 \n",
            " \t\t genre : Novel \n",
            "-----------------------------------\n",
            "writer = ['Victor Hugo', 'Jalal Ale Ahmad', 'Sadegh Hedayat', 'Simin Daneshvar']\n"
          ],
          "name": "stdout"
        }
      ]
    },
    {
      "cell_type": "markdown",
      "metadata": {
        "id": "B1Tc6LDfhk5U"
      },
      "source": [
        "\n",
        "\n",
        "---\n",
        "\n",
        "\n",
        "\n",
        "---\n",
        "\n",
        "\n",
        "\n",
        "---\n",
        "\n",
        "\n",
        "\n",
        "---\n",
        "\n",
        "\n",
        "\n",
        "---\n",
        "\n",
        "\n",
        "\n",
        "---\n",
        "\n",
        "\n",
        "\n",
        "---\n",
        "\n",
        "\n",
        "\n",
        "---\n",
        "\n",
        "\n",
        "\n",
        "---\n",
        "\n"
      ]
    },
    {
      "cell_type": "code",
      "metadata": {
        "colab": {
          "base_uri": "https://localhost:8080/"
        },
        "id": "6iAcnbS_UeJJ",
        "outputId": "7b594cc5-18cb-448a-f8ca-8feba793d56d"
      },
      "source": [
        "# product\n",
        "\n",
        "class product(person) :\n",
        "    def __init__(self,title,owner):\n",
        "        self.title = title\n",
        "        self.owner = owner\n",
        "        self.chek = []\n",
        "        super().researcher_list\n",
        "        super().poet_list\n",
        "        super().writer_list\n",
        "\n",
        "\n",
        "    # بررسی میکند که فرد یا افراد(لیست) در لیست پژوهشگران وجود دارند\n",
        "    def chek_researcher(self):\n",
        "        if type(self.owner) == list :\n",
        "            for owner in self.owner :\n",
        "                if owner in self.researcher_list :\n",
        "                    self.chek.append(True)\n",
        "                else :\n",
        "                    self.chek.append(False)\n",
        "            return f\"chek researcher : {all(self.chek)}\"\n",
        "        elif type(self.owner) == str :\n",
        "            if self.owner in self.researcher_list :\n",
        "                return f\"chek researcher : {True}\"\n",
        "            else :\n",
        "                return f\"chek researcher : {False}\"\n",
        "                \n",
        "    # بررسی میکند که فرد در لیست شاعران وجود دارند و اینکه شاعران یک فرد باشد نه یک لیست از افراد\n",
        "    def chek_poet(self):\n",
        "        if type(self.owner) == list :\n",
        "            return \"chek poet : poet cannot be more than one person\"\n",
        "        elif type(self.owner) == str :\n",
        "            if self.owner in self.poet_list :\n",
        "                return f\"chek poet : {True}\"\n",
        "            else :\n",
        "                return f\"chek poet : {False}\"\n",
        "\n",
        "    # بررسی میکند که فرد یا افراد(لیست) در لیست نویسندگان وجود دارند\n",
        "    def chek_writer(self):\n",
        "        if type(self.owner) == list :\n",
        "            for owner in self.owner :\n",
        "                if owner in self.writer_list :\n",
        "                    self.chek.append(True)\n",
        "                else :\n",
        "                    self.chek.append(False)\n",
        "            return f\"chek writer : {all(self.chek)}\"\n",
        "        elif type(self.owner) == str :\n",
        "            if self.owner in self.writer_list :\n",
        "                return f\"chek writer : {True}\"\n",
        "            else :\n",
        "                return f\"chek writer : {False}\"\n",
        "\n",
        "\n",
        "    def __repr__(self):\n",
        "        return f\"title : {self.title} \\n\\t owner : {self.owner} \\n\"+(\"-\"*35)\n",
        "\n",
        "    def __str__(self) :\n",
        "        return self.__repr__()\n",
        "\n",
        "\n",
        "pro1 = product('Relativity and quantum' , ['Einstein','Marie Curie'])\n",
        "print(pro1.chek_researcher())\n",
        "print(pro1)\n",
        "pro2 = product('Masnavis' , 'Parvin Etesami')\n",
        "print(pro2.chek_poet())\n",
        "print(pro2)\n",
        "pro3 = product('Gile Mard' , 'Bozorghe Alavi')\n",
        "print(pro3.chek_writer())\n",
        "print(pro3)"
      ],
      "execution_count": null,
      "outputs": [
        {
          "output_type": "stream",
          "text": [
            "chek researcher : True\n",
            "title : Relativity and quantum \n",
            "\t owner : ['Einstein', 'Marie Curie'] \n",
            "-----------------------------------\n",
            "chek poet : True\n",
            "title : Masnavis \n",
            "\t owner : Parvin Etesami \n",
            "-----------------------------------\n",
            "chek writer : False\n",
            "title : Gile Mard \n",
            "\t owner : Bozorghe Alavi \n",
            "-----------------------------------\n"
          ],
          "name": "stdout"
        }
      ]
    },
    {
      "cell_type": "markdown",
      "metadata": {
        "id": "qX2WiqTXlQ85"
      },
      "source": [
        "\n",
        "\n",
        "---\n",
        "\n"
      ]
    },
    {
      "cell_type": "code",
      "metadata": {
        "id": "Fy4q7xk1lSMj",
        "colab": {
          "base_uri": "https://localhost:8080/"
        },
        "outputId": "a66f5f13-8f5e-445d-8961-a6d48613b87d"
      },
      "source": [
        "# article\n",
        "\n",
        "class article(product) :\n",
        "    def __init__(self,name,title,owner,releazed_date) :\n",
        "        self.releazed_date = releazed_date\n",
        "        self.title = title\n",
        "        self.owner = owner\n",
        "        self.name = name\n",
        "\n",
        "    # میخواهیم بررسی کنیم که پژوهشگران جزو لیست پژوهشگران هستند \n",
        "    def is_valid(self) :\n",
        "        return pro1.chek_researcher()\n",
        "\n",
        "    def __repr__(self):\n",
        "        return f\"name book : {self.name} \\ntitle : {self.title} \\n\\t owner : {self.owner} \\n\\t releazed date : {self.releazed_date} \\n\"+(\"-\"*35)\n",
        "\n",
        "    def __str__(self) :\n",
        "        return self.__repr__()\n",
        "\n",
        "\n",
        "art1 = article('Physics book','Relativity and quantum' , ['Einstein','Marie Curie'],'1907')\n",
        "print(art1.is_valid())\n",
        "print(art1)\n"
      ],
      "execution_count": null,
      "outputs": [
        {
          "output_type": "stream",
          "text": [
            "chek researcher : True\n",
            "name book : Physics book \n",
            "title : Relativity and quantum \n",
            "\t owner : ['Einstein', 'Marie Curie'] \n",
            "\t releazed date : 1907 \n",
            "-----------------------------------\n"
          ],
          "name": "stdout"
        }
      ]
    },
    {
      "cell_type": "markdown",
      "metadata": {
        "id": "G7bHE31yllpv"
      },
      "source": [
        "\n",
        "\n",
        "---\n",
        "\n"
      ]
    },
    {
      "cell_type": "code",
      "metadata": {
        "id": "pkUy3sQxlmq3",
        "colab": {
          "base_uri": "https://localhost:8080/"
        },
        "outputId": "22609c8a-2785-4845-9260-230a8d306e19"
      },
      "source": [
        "# poem\n",
        "\n",
        "class poem(product) :\n",
        "    def __init__(self,type,title,owner) :\n",
        "        self.type = type\n",
        "        super().__init__(title,owner)\n",
        "\n",
        "    # بررسی میکند که فرد در لیست شاعران وجود دارند و اینکه شاعران یک فرد باشد نه یک لیست از افراد\n",
        "    def is_valid(self) :\n",
        "        print(pro2.chek_poet())\n",
        "\n",
        "    def __repr__(self):\n",
        "        return f\"title : {self.title} \\n\\t owner : {self.owner} \\n\\t type : {self.type} \\n\"+(\"-\"*35)\n",
        "\n",
        "    def __str__(self) :\n",
        "        return self.__repr__()\n",
        "\n",
        "\n",
        "poem1 = poem('Masnavis' , 'Baby pigeons eager to fly' , 'Parvin Etesami')\n",
        "poem1.is_valid()\n",
        "print(poem1)"
      ],
      "execution_count": null,
      "outputs": [
        {
          "output_type": "stream",
          "text": [
            "chek poet : True\n",
            "title : Baby pigeons eager to fly \n",
            "\t owner : Parvin Etesami \n",
            "\t type : Masnavis \n",
            "-----------------------------------\n"
          ],
          "name": "stdout"
        }
      ]
    },
    {
      "cell_type": "markdown",
      "metadata": {
        "id": "gdrZlOp1lnMK"
      },
      "source": [
        "\n",
        "\n",
        "---\n",
        "\n"
      ]
    },
    {
      "cell_type": "code",
      "metadata": {
        "id": "c0hKrdyZlny6",
        "colab": {
          "base_uri": "https://localhost:8080/"
        },
        "outputId": "0f386085-3d2d-429e-9de4-865d03da111d"
      },
      "source": [
        "# book\n",
        "\n",
        "class book(product) :\n",
        "    def __init__(self,ISBN,publishers,title,owner) :\n",
        "        self.ISBN = ISBN\n",
        "        self.publishers = publishers\n",
        "        super().__init__(title,owner)\n",
        "        \n",
        "    # میخواهیم بررسی کنیم که نویسندگان جزو لیست پژوهشگران هستند \n",
        "    def is_valid(self) :\n",
        "        return pro3.chek_writer()\n",
        "\n",
        "    def __repr__(self):\n",
        "        return f\"title : {self.title} \\n\\t owner : {self.owner} \\n\\t publishers : {self.publishers} \\n\\t ISBN : {self.ISBN} \\n\"+(\"-\"*35)\n",
        "\n",
        "    def __str__(self) :\n",
        "        return self.__repr__()\n",
        "\n",
        "book1 = book('Gile Mard' , 'Bozorghe Alavi' , 'neghah' , '\t978-3-16-148410-0')\n",
        "print(book1.is_valid())\n",
        "print(book1)"
      ],
      "execution_count": null,
      "outputs": [
        {
          "output_type": "stream",
          "text": [
            "chek writer : False\n",
            "title : neghah \n",
            "\t owner : \t978-3-16-148410-0 \n",
            "\t publishers : Bozorghe Alavi \n",
            "\t ISBN : Gile Mard \n",
            "-----------------------------------\n"
          ],
          "name": "stdout"
        }
      ]
    }
  ]
}