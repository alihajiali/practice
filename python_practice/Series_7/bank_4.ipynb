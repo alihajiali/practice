{
  "nbformat": 4,
  "nbformat_minor": 2,
  "metadata": {
    "colab": {
      "name": "fun 1.ipynb",
      "provenance": [],
      "collapsed_sections": []
    },
    "kernelspec": {
      "name": "python3",
      "display_name": "Python 3.8.10 64-bit"
    },
    "language_info": {
      "name": "python",
      "version": "3.8.10",
      "mimetype": "text/x-python",
      "codemirror_mode": {
        "name": "ipython",
        "version": 3
      },
      "pygments_lexer": "ipython3",
      "nbconvert_exporter": "python",
      "file_extension": ".py"
    },
    "interpreter": {
      "hash": "31f2aee4e71d21fbe5cf8b01ff0e069b9275f58929596ceb00d14d90e3e16cd6"
    }
  },
  "cells": [
    {
      "cell_type": "code",
      "execution_count": 12,
      "source": [
        "import pickle\n",
        "from random import randint\n",
        "import datetime"
      ],
      "outputs": [],
      "metadata": {
        "id": "PS4YwiSW3kp_"
      }
    },
    {
      "cell_type": "code",
      "execution_count": 13,
      "source": [
        "class Bank :\n",
        "    minimal_money = 10000\n",
        "    def __init__(self, name, money) :\n",
        "        self.name = name\n",
        "        self.money = money\n",
        "        self.account_number = '6037'\n",
        "        for i in range(3) :\n",
        "            self.number = str(randint(1000,9999))\n",
        "            self.account_number += (\"-\" + self.number)\n",
        "        print(f\"account number of '{self.name}' is {self.account_number} \\n and password is {self.number} \\n\\n\")\n",
        "        self.detail = {}\n",
        "        self.detail['name'] = self.name\n",
        "        self.detail['money'] = self.money\n",
        "        self.detail['account_number'] = self.account_number\n",
        "        self.detail['password'] = self.number\n",
        "        self.detail['datetime'] = datetime.datetime.now()\n",
        "        global lst  \n",
        "        lst.append(self.detail) \n",
        "        with open('data.pickle', 'wb') as writer :\n",
        "            pickle.dump(lst, writer)\n",
        "\n",
        "    def add_money(self, add, account_number_of_person2) :\n",
        "        with open('data.pickle', 'rb') as reader :\n",
        "            lst = pickle.load(reader)\n",
        "            for person_goal in lst :\n",
        "                if person_goal['account_number'] == account_number_of_person2 :\n",
        "                    self.money += add\n",
        "                    person_goal['money'] = self.money\n",
        "        with open('data.pickle', 'wb') as writer :\n",
        "            pickle.dump(lst, writer)\n",
        "\n",
        "    def sub_money(self, sub) :\n",
        "        with open('data.pickle', 'rb') as reader :\n",
        "            lst = pickle.load(reader)\n",
        "            for person_origin in lst :\n",
        "                if person_origin['name'] == self.name :\n",
        "                    self.money -= sub\n",
        "                    print(f'cash of {self.name} : {self.money}')\n",
        "                    person_origin['money'] = self.money\n",
        "        with open('data.pickle', 'wb') as writer :\n",
        "            pickle.dump(lst, writer)\n",
        "\n",
        "    def __check(self, password, request) :\n",
        "        with open('data.pickle', 'rb') as reader :\n",
        "            for person_origin in pickle.load(reader) :\n",
        "                if person_origin['name'] == self.name :\n",
        "                    if person_origin['password'] == password :\n",
        "                        if person_origin['money']-request >= Bank.minimal_money :\n",
        "                            print('Your transaction was successful !!!')\n",
        "                            return True\n",
        "                        else :\n",
        "                            print('Your inventory is not enough !!!')\n",
        "                            return False\n",
        "                    else :\n",
        "                        print(\"password is wrong\")\n",
        "                        return False\n",
        "\n",
        "    def profit(self, person2) :\n",
        "        minutes = 0\n",
        "        with open('data.pickle', 'rb') as reader :\n",
        "            for person_origin in pickle.load(reader) :\n",
        "                if person_origin['name'] == self.name :\n",
        "                    time = datetime.datetime.now() - person_origin['datetime']\n",
        "                    self.money = self.money + (self.money * (time.total_seconds()/3600) * 18 / 100)\n",
        "                    print(f'cash of {self.name} : {self.money}')\n",
        "                    person_origin['money'] = self.money\n",
        "        with open('data.pickle', 'wb') as writer :\n",
        "            pickle.dump(lst, writer)\n",
        "\n",
        "def send_money(person1, password, person2, account_number_of_person2, request) :\n",
        "    person1.profit(person2)\n",
        "    if person1._Bank__check(password, request) == True :\n",
        "        person1.sub_money(request)\n",
        "        person2.add_money(request, account_number_of_person2)"
      ],
      "outputs": [],
      "metadata": {
        "id": "D_Fe13qr3oJ-"
      }
    },
    {
      "cell_type": "code",
      "execution_count": 14,
      "source": [
        "lst = []\n",
        "person1 = Bank('ali', 50000)\n",
        "person2 = Bank('reza', 10000)\n",
        "person3 = Bank('ahmad', 20000)\n",
        "person4 = Bank('hasan', 300000)\n",
        "person5 = Bank('mohammad', 75000)\n",
        "person6 = Bank('iman', 130000)\n",
        "person7 = Bank('mahan', 900000)"
      ],
      "outputs": [
        {
          "output_type": "stream",
          "name": "stdout",
          "text": [
            "account number of 'ali' is 6037-9677-6981-7084 \n",
            " and password is 7084 \n",
            "\n",
            "\n",
            "account number of 'reza' is 6037-5705-8466-1898 \n",
            " and password is 1898 \n",
            "\n",
            "\n",
            "account number of 'ahmad' is 6037-5142-3461-9532 \n",
            " and password is 9532 \n",
            "\n",
            "\n",
            "account number of 'hasan' is 6037-7348-4856-4906 \n",
            " and password is 4906 \n",
            "\n",
            "\n",
            "account number of 'mohammad' is 6037-2097-1460-7421 \n",
            " and password is 7421 \n",
            "\n",
            "\n",
            "account number of 'iman' is 6037-3125-9517-3497 \n",
            " and password is 3497 \n",
            "\n",
            "\n",
            "account number of 'mahan' is 6037-5530-7408-5799 \n",
            " and password is 5799 \n",
            "\n",
            "\n"
          ]
        }
      ],
      "metadata": {
        "id": "yD1T-Of33qdP",
        "colab": {
          "base_uri": "https://localhost:8080/"
        },
        "outputId": "d236dcca-3a45-4eea-8934-6f1e590614e0"
      }
    },
    {
      "cell_type": "code",
      "execution_count": 15,
      "source": [
        "print(send_money(person7, '5799', person6 , '6037-5530-7408-5799', 20000))"
      ],
      "outputs": [
        {
          "output_type": "stream",
          "name": "stdout",
          "text": [
            "cash of mahan : 901257.0849\n",
            "Your transaction was successful !!!\n",
            "cash of mahan : 881257.0849\n",
            "None\n"
          ]
        }
      ],
      "metadata": {
        "id": "QYVCBjtd3s5_",
        "colab": {
          "base_uri": "https://localhost:8080/"
        },
        "outputId": "989357e1-9c8a-4b74-a358-0c97be3c271a"
      }
    }
  ]
}