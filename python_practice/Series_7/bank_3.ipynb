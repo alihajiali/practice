{
  "nbformat": 4,
  "nbformat_minor": 2,
  "metadata": {
    "colab": {
      "name": "پاسخ سوال ۱ ـ‌ روش اول.ipynb",
      "provenance": [],
      "collapsed_sections": []
    },
    "kernelspec": {
      "name": "python3",
      "display_name": "Python 3.8.10 64-bit"
    },
    "language_info": {
      "name": "python",
      "version": "3.8.10",
      "mimetype": "text/x-python",
      "codemirror_mode": {
        "name": "ipython",
        "version": 3
      },
      "pygments_lexer": "ipython3",
      "nbconvert_exporter": "python",
      "file_extension": ".py"
    },
    "interpreter": {
      "hash": "916dbcbb3f70747c44a77c7bcd40155683ae19c65e1c03b4aa3499c5328201f1"
    }
  },
  "cells": [
    {
      "cell_type": "code",
      "execution_count": 16,
      "source": [
        "class Bank :\n",
        "    # حداقل موجودی در حساب باید ۱۰۰۰۰ تومان باشد\n",
        "    minimal_money = 10000\n",
        "    def __init__(self, name, money) :\n",
        "        self.name = name\n",
        "        self.money = money\n",
        "        # یک دیکشنری برای هر شخص که حساب باز میکند ساختیم و اطلاعات ان شخص مثل نام و موجودی در ان ذخیره میشود\n",
        "        self.detail = {}\n",
        "        self.detail['name'] = self.name\n",
        "        self.detail['money'] = self.money\n",
        "        # یک لیست را بصورت گلوبال ایمپورت میکنیم\n",
        "        global lst  \n",
        "        # و هر دیکشنری را در لیست اضافه میکنیم (زیرا بعدا میخواهیم روی ایتم های لیست پیمایش کنیم)\n",
        "        lst.append(self.detail) \n",
        "\n",
        "    # متد زیر به موجودی یک حساب مقداری را اضافه میکند و برای رسید یک متن را چاپ میکند\n",
        "    def add(self, add) :\n",
        "        for person_goal in lst :\n",
        "            if person_goal['name'] == self.name :\n",
        "                self.money += add\n",
        "                print(f'cash of {self.name} : {self.money}')\n",
        "                person_goal['money'] = self.money\n",
        "\n",
        "    # متد زیر از موجودی یک حساب مقداری را کم میکند و برای رسید یک متن را چاپ میکند\n",
        "    def sub(self, sub) :\n",
        "        for person_origin in lst :\n",
        "            if person_origin['name'] == self.name :\n",
        "                self.money -= sub\n",
        "                print(f'cash of {self.name} : {self.money}')\n",
        "                person_origin['money'] = self.money\n",
        "\n",
        "    # متد خصوصی زیر چک میکند که موجودی حساب بعد از انجام تراکنش کمتر از حداقل موجودی نشود و پیغام مناسب چاپ میکند\n",
        "    def __check(self, request) :\n",
        "        for person_origin in lst :\n",
        "            if person_origin['name'] == self.name :\n",
        "                if person_origin['money']-request >= Bank.minimal_money :\n",
        "                    print('Your transaction was successful !!!')\n",
        "                    return True\n",
        "                else :\n",
        "                    print('Your inventory is not enough !!!')\n",
        "                    return False\n",
        "\n",
        "    # متد زیر تراکنش را انجام میدهد\n",
        "    def send_money(self, person1, request, person2) :\n",
        "        if person1._Bank__check(request) == True :\n",
        "            person1.sub(request)\n",
        "            person2.add(request)\n",
        "\n",
        "    # متد زیر برداشت را انجام میدهد\n",
        "    def sub_money(self, person1, request) :\n",
        "        if person1._Bank__check(request) == True :\n",
        "            person1.sub(request)\n",
        "\n",
        "    # متد زیر برداشت را انجام میدهد\n",
        "    def add_money(self, person1, request) :\n",
        "        person1.add(request)"
      ],
      "outputs": [],
      "metadata": {
        "id": "orvfG1UtuGrD"
      }
    },
    {
      "cell_type": "code",
      "execution_count": 22,
      "source": [
        "lst = []\n",
        "person1 = Bank('ali', 50000)\n",
        "person2 = Bank('reza', 10000)\n",
        "person3 = Bank('ahmad', 20000)\n",
        "person4 = Bank('hasan', 300000)\n",
        "person5 = Bank('mohammad', 75000)\n",
        "person6 = Bank('iman', 130000)\n",
        "person7 = Bank('mahan', 900000)"
      ],
      "outputs": [],
      "metadata": {
        "id": "y6tYRWQTuKHe"
      }
    },
    {
      "cell_type": "code",
      "execution_count": 23,
      "source": [
        "print(person7.send_money(person7, 871000, person1))"
      ],
      "outputs": [
        {
          "output_type": "stream",
          "name": "stdout",
          "text": [
            "Your transaction was successful !!!\n",
            "cash of mahan : 29000\n",
            "cash of ali : 921000\n",
            "None\n"
          ]
        }
      ],
      "metadata": {
        "colab": {
          "base_uri": "https://localhost:8080/"
        },
        "id": "N2oLXPvXuPAm",
        "outputId": "6de4f2af-eb26-404e-ad71-162bc9bf95fc"
      }
    },
    {
      "cell_type": "code",
      "execution_count": 24,
      "source": [
        "print(person4.sub_money(person4, 285000))"
      ],
      "outputs": [
        {
          "output_type": "stream",
          "name": "stdout",
          "text": [
            "Your transaction was successful !!!\n",
            "cash of hasan : 15000\n",
            "None\n"
          ]
        }
      ],
      "metadata": {}
    },
    {
      "cell_type": "code",
      "execution_count": 25,
      "source": [
        "print(person4.add_money(person4, 15000))"
      ],
      "outputs": [
        {
          "output_type": "stream",
          "name": "stdout",
          "text": [
            "cash of hasan : 30000\n",
            "None\n"
          ]
        }
      ],
      "metadata": {}
    }
  ]
}